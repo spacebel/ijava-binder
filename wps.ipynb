{
 "cells": [
  {
   "cell_type": "markdown",
   "metadata": {},
   "source": [
    "### Initialization\n",
    "(can be performed by the container instead)"
   ]
  },
  {
   "cell_type": "code",
   "execution_count": 43,
   "metadata": {},
   "outputs": [],
   "source": [
    "%jars \"lib/wpsc.jar\"\n",
    "// Dynamically load the WPS Client (TODO load from container)\n",
    "//File myJar = new java.io.File(\"./lib/wpsc.jar\");\n",
    "//URLClassLoader child = new URLClassLoader(       new URL[] {myJar.toURI().toURL()},        ClassLoader.getSystemClassLoader());\n",
    "\n",
    "import be.spacebel.wps2.client.*;\n",
    "import be.spacebel.wps2.util.*;"
   ]
  },
  {
   "cell_type": "markdown",
   "metadata": {},
   "source": [
    "Disable logs"
   ]
  },
  {
   "cell_type": "code",
   "execution_count": 41,
   "metadata": {},
   "outputs": [],
   "source": [
    "// Disable logs\n",
    "import java.util.logging.Level;\n",
    "import org.apache.log4j.Logger;\n",
    "org.apache.log4j.Logger logger4j = org.apache.log4j.Logger.getRootLogger();\n",
    "org.apache.log4j.Logger wpslogger = org.apache.log4j.Logger.getLogger(WPSClient.class);\n",
    "org.apache.log4j.Logger hl = org.apache.log4j.Logger.getLogger(HTTPWPSClient.class);\n",
    "org.apache.log4j.Logger hl2 = org.apache.log4j.Logger.getLogger(HTTPGetRequest.class);\n",
    "logger4j.setLevel(org.apache.log4j.Level.toLevel(\"INFO\"));\n",
    "wpslogger.setLevel(org.apache.log4j.Level.toLevel(\"ERROR\"));\n",
    "hl.setLevel(org.apache.log4j.Level.toLevel(\"WARN\"));\n",
    "hl2.setLevel(org.apache.log4j.Level.toLevel(\"WARN\"));\n"
   ]
  },
  {
   "cell_type": "markdown",
   "metadata": {},
   "source": [
    "### WPS Client initialisation"
   ]
  },
  {
   "cell_type": "code",
   "execution_count": 48,
   "metadata": {},
   "outputs": [],
   "source": [
    "\n",
    "WPSClient client = WPSClient.newInstance(\"http://geo-cloud.eu/WPS/WebProcessingService\");"
   ]
  },
  {
   "cell_type": "markdown",
   "metadata": {},
   "source": [
    "### Discover Processes / Descriptions"
   ]
  },
  {
   "cell_type": "code",
   "execution_count": 45,
   "metadata": {},
   "outputs": [
    {
     "name": "stdout",
     "output_type": "stream",
     "text": [
      "Processes list: [spb-ndrmaja, spb-ndrphes1, spb-ndrndvi, spb-ndrphes2, spb-ndrfcov, spb-ndrplos2, spb-ndrflos2, spb-ndrpwr, schain, helloworld, DeployProcess, UndeployProcess]\n",
      "First input id: Input Title\n"
     ]
    }
   ],
   "source": [
    "System.out.println(\"Processes list: \" +Arrays.toString(client.getProcessNames()));\n",
    "System.out.println(\"First input id: \"+client.describeProcess(\"schain\").getProcessOfferings().getProcessOfferingArray(0).getProcess().\n",
    "                   getInputArray()[0].getTitleArray(0).getStringValue());"
   ]
  },
  {
   "cell_type": "code",
   "execution_count": 51,
   "metadata": {},
   "outputs": [
    {
     "name": "stdout",
     "output_type": "stream",
     "text": [
      "Done: 0outputs.\n"
     ]
    }
   ],
   "source": [
    "String S2_product = \"http://store.geo-cloud.eu/nfs/nfs1.geo-cloud.eu/datamanager/public/Sentinel_2/2020/05/02/S2A_MSIL1C_20200502T113321_N0209_R080_T28QCD_20200502T132335/_value\";\n",
    "ResultReader result = client.execute(\"schain\",\n",
    "               new String[][]{{\"INPUT1\",S2_product}, \n",
    "                              {\"INPUT2\", \"demo run\"}});\n",
    "\n",
    "    System.out.println(\"Done: \"+ result.getDoc().getResult().getOutputArray().length+ \"outputs.\");"
   ]
  },
  {
   "cell_type": "code",
   "execution_count": 52,
   "metadata": {},
   "outputs": [
    {
     "name": "stdout",
     "output_type": "stream",
     "text": [
      "<wps:Result xsi:schemaLocation=\"http://www.opengis.net/wps/2.0 http://schemas.opengis.net/wps/2.0/wps.xsd\" xmlns:wps=\"http://www.opengis.net/wps/2.0\" xmlns:xsi=\"http://www.w3.org/2001/XMLSchema-instance\">\n",
      "  <wps:JobID>c0fcde11-08c6-426d-a451-0aaf24ad2530</wps:JobID>\n",
      "</wps:Result>\n",
      "null\n"
     ]
    },
    {
     "ename": "CompilationException",
     "evalue": "",
     "output_type": "error",
     "traceback": [
      "\u001b[1m\u001b[30m|   \u001b[1m\u001b[30mString id = display(\"Output quicklook: \"+<img \u001b[0m\u001b[1m\u001b[30m\u001b[41m\u001b[0m\u001b[1m\u001b[30msrc=\\\"\"+result.getOutput(\"QUICKLOOK\")+\"\\\"></img>\", \"text/html\");\u001b[0m",
      "\u001b[1m\u001b[31m> expected\u001b[0m",
      ""
     ]
    }
   ],
   "source": [
    "System.out.println(result.getDoc());\n",
    "System.out.println(result.getOutput(\"QUICKLOOK\"));\n",
    "String id = display(\"Output quicklook: \"+<img src=\\\"\"+result.getOutput(\"QUICKLOOK\")+\"\\\"></img>\", \"text/html\");"
   ]
  },
  {
   "cell_type": "code",
   "execution_count": null,
   "metadata": {},
   "outputs": [],
   "source": []
  },
  {
   "cell_type": "code",
   "execution_count": null,
   "metadata": {},
   "outputs": [],
   "source": []
  }
 ],
 "metadata": {
  "kernelspec": {
   "display_name": "Java",
   "language": "java",
   "name": "java"
  },
  "language_info": {
   "codemirror_mode": "java",
   "file_extension": ".jshell",
   "mimetype": "text/x-java-source",
   "name": "Java",
   "pygments_lexer": "java",
   "version": "11.0.3+7"
  }
 },
 "nbformat": 4,
 "nbformat_minor": 2
}
