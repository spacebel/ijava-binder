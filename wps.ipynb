{
 "cells": [
  {
   "cell_type": "markdown",
   "metadata": {},
   "source": [
    "### Initialization\n",
    "(can be performed by the container instead)"
   ]
  },
  {
   "cell_type": "code",
   "execution_count": 1,
   "metadata": {},
   "outputs": [],
   "source": [
    "%jars \"lib/wpsc.jar\""
   ]
  },
  {
   "cell_type": "markdown",
   "metadata": {},
   "source": [
    "Disable logs"
   ]
  },
  {
   "cell_type": "code",
   "execution_count": 2,
   "metadata": {},
   "outputs": [],
   "source": [
    "// Disable logs\n",
    "import be.spacebel.wps2.client.*;import be.spacebel.wps2.util.*;import java.util.logging.Level; import org.apache.log4j.Logger; org.apache.log4j.Logger logger4j = org.apache.log4j.Logger.getRootLogger(); org.apache.log4j.Logger wpslogger = org.apache.log4j.Logger.getLogger(WPSClient.class); org.apache.log4j.Logger hl = org.apache.log4j.Logger.getLogger(HTTPWPSClient.class); org.apache.log4j.Logger hl2 = org.apache.log4j.Logger.getLogger(HTTPGetRequest.class); logger4j.setLevel(org.apache.log4j.Level.toLevel(\"INFO\")); wpslogger.setLevel(org.apache.log4j.Level.toLevel(\"ERROR\")); hl.setLevel(org.apache.log4j.Level.toLevel(\"WARN\")); hl2.setLevel(org.apache.log4j.Level.toLevel(\"WARN\"));"
   ]
  },
  {
   "cell_type": "markdown",
   "metadata": {},
   "source": [
    "### WPS Client initialisation"
   ]
  },
  {
   "cell_type": "code",
   "execution_count": 5,
   "metadata": {},
   "outputs": [],
   "source": [
    "WPSClient client = WPSClient.newInstance(\"http://geo-cloud.eu/WPS/WebProcessingService\");\n",
    "String S2_product = \"http://store.geo-cloud.eu/nfs/nfs1.geo-cloud.eu/datamanager/public/Sentinel_2/2020/05/02/S2A_MSIL1C_20200502T113321_N0209_R080_T28QCD_20200502T132335/_value\";"
   ]
  },
  {
   "cell_type": "markdown",
   "metadata": {},
   "source": [
    "### Process 1 Execution"
   ]
  },
  {
   "cell_type": "code",
   "execution_count": 11,
   "metadata": {},
   "outputs": [
    {
     "name": "stdout",
     "output_type": "stream",
     "text": [
      "Done. Output location: nfs://nfs1.geo-cloud.eu/datamanager/public/schain/2020/09/29/0f8aae7d-6558-4b75-a813-5141b85484e4/outputs/OUTPUT1\n"
     ]
    }
   ],
   "source": [
    "ResultReader result = client.execute(\"schain\",\n",
    "               new String[][]{{\"INPUT1\",S2_product}, \n",
    "                              {\"INPUT2\", \"execution2\"}});\n",
    "System.out.println(\"Done. Output location: \"+result.getReferenceOutput(\"OUTPUT1\"));"
   ]
  },
  {
   "cell_type": "markdown",
   "metadata": {},
   "source": [
    "### Process 2 Execution: from Process 1 result"
   ]
  },
  {
   "cell_type": "code",
   "execution_count": 12,
   "metadata": {},
   "outputs": [],
   "source": [
    "ResultReader result2 = client.execute(\"schain\",\n",
    "               new String[][]{{\"INPUT1\",result.getReferenceOutput(\"OUTPUT1\")}, \n",
    "                              {\"INPUT2\", \"execution2\"}});"
   ]
  },
  {
   "cell_type": "markdown",
   "metadata": {},
   "source": [
    "Display output quicklook:"
   ]
  },
  {
   "cell_type": "code",
   "execution_count": 13,
   "metadata": {},
   "outputs": [
    {
     "data": {
      "text/html": [
       "Output quicklook: <img src=\"http://store.geo-cloud.eu/nfs/nfs1.geo-cloud.eu/datamanager/public/schain/2020/09/29/1359d935-ab01-4968-bcad-abe66a3ca92f/outputs/QUICKLOOK\"></img>"
      ],
      "text/plain": [
       "Output quicklook: <img src=\"http://store.geo-cloud.eu/nfs/nfs1.geo-cloud.eu/datamanager/public/schain/2020/09/29/1359d935-ab01-4968-bcad-abe66a3ca92f/outputs/QUICKLOOK\"></img>"
      ]
     },
     "metadata": {},
     "output_type": "display_data"
    }
   ],
   "source": [
    "String quickLookURL=\"http://store.geo-cloud.eu\"+result2.getReferenceOutput(\"QUICKLOOK\").replace(\"nfs://\",\"/nfs/\");\n",
    "String id = display(\"Output quicklook: <img src=\\\"\"+quickLookURL+\"\\\"></img>\", \"text/html\");"
   ]
  },
  {
   "cell_type": "markdown",
   "metadata": {},
   "source": [
    "### Discover Processes / Descriptions"
   ]
  },
  {
   "cell_type": "code",
   "execution_count": 14,
   "metadata": {},
   "outputs": [
    {
     "name": "stdout",
     "output_type": "stream",
     "text": [
      "Processes list: [spb-ndrmaja, spb-ndrphes1, spb-ndrndvi, spb-ndrphes2, spb-ndrfcov, spb-ndrplos2, spb-ndrflos2, spb-ndrpwr, schain, helloworld, DeployProcess, UndeployProcess]\n",
      "First input id: Input Title\n"
     ]
    }
   ],
   "source": [
    "System.out.println(\"Processes list: \" +Arrays.toString(client.getProcessNames()));\n",
    "System.out.println(\"First input id: \"+client.describeProcess(\"schain\").getProcessOfferings().getProcessOfferingArray(0).getProcess().\n",
    "                   getInputArray()[0].getTitleArray(0).getStringValue());"
   ]
  }
 ],
 "metadata": {
  "kernelspec": {
   "display_name": "Java",
   "language": "java",
   "name": "java"
  },
  "language_info": {
   "codemirror_mode": "java",
   "file_extension": ".jshell",
   "mimetype": "text/x-java-source",
   "name": "Java",
   "pygments_lexer": "java",
   "version": "11.0.3+7"
  }
 },
 "nbformat": 4,
 "nbformat_minor": 2
}
